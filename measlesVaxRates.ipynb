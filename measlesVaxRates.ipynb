{
 "cells": [
  {
   "cell_type": "code",
   "execution_count": 1,
   "metadata": {},
   "outputs": [],
   "source": [
    "import tabula\n",
    "import pandas as pd"
   ]
  },
  {
   "cell_type": "markdown",
   "metadata": {},
   "source": [
    "### Read in pdf files with tables"
   ]
  },
  {
   "cell_type": "code",
   "execution_count": 2,
   "metadata": {},
   "outputs": [],
   "source": [
    "# Encoding was necessary to get this to work on Windows\n",
    "mmr2_1 = tabula.read_pdf(\"data/page38.pdf\", encoding='cp1252')\n",
    "mmr2_2 = tabula.read_pdf(\"data/page39.pdf\", encoding='cp1252')"
   ]
  },
  {
   "cell_type": "code",
   "execution_count": 3,
   "metadata": {},
   "outputs": [
    {
     "data": {
      "text/html": [
       "<div>\n",
       "<style scoped>\n",
       "    .dataframe tbody tr th:only-of-type {\n",
       "        vertical-align: middle;\n",
       "    }\n",
       "\n",
       "    .dataframe tbody tr th {\n",
       "        vertical-align: top;\n",
       "    }\n",
       "\n",
       "    .dataframe thead th {\n",
       "        text-align: right;\n",
       "    }\n",
       "</style>\n",
       "<table border=\"1\" class=\"dataframe\">\n",
       "  <thead>\n",
       "    <tr style=\"text-align: right;\">\n",
       "      <th></th>\n",
       "      <th>Unnamed: 0</th>\n",
       "      <th>TOTAL</th>\n",
       "      <th>Unnamed: 2</th>\n",
       "      <th>Unnamed: 3</th>\n",
       "      <th>Unnamed: 4</th>\n",
       "      <th>Unnamed: 5</th>\n",
       "    </tr>\n",
       "  </thead>\n",
       "  <tbody>\n",
       "    <tr>\n",
       "      <th>0</th>\n",
       "      <td>NaN</td>\n",
       "      <td>NaN</td>\n",
       "      <td>DTP 4+</td>\n",
       "      <td>POLIO 3+</td>\n",
       "      <td>MMR 2</td>\n",
       "      <td>HEP B 3+</td>\n",
       "    </tr>\n",
       "    <tr>\n",
       "      <th>1</th>\n",
       "      <td>NaN</td>\n",
       "      <td>STUDENTS</td>\n",
       "      <td>NaN</td>\n",
       "      <td>NaN</td>\n",
       "      <td>NaN</td>\n",
       "      <td>NaN</td>\n",
       "    </tr>\n",
       "    <tr>\n",
       "      <th>2</th>\n",
       "      <td>NaN</td>\n",
       "      <td>NUMBER</td>\n",
       "      <td>NUMBER PERCENT</td>\n",
       "      <td>NUMBER PERCENT</td>\n",
       "      <td>NUMBER PERCENT</td>\n",
       "      <td>NUMBER PERCENT</td>\n",
       "    </tr>\n",
       "    <tr>\n",
       "      <th>3</th>\n",
       "      <td>STATE TOTAL</td>\n",
       "      <td>555,735</td>\n",
       "      <td>533,741 96.0%</td>\n",
       "      <td>536,419 96.5%</td>\n",
       "      <td>536,373 96.5%</td>\n",
       "      <td>541,074 97.4%</td>\n",
       "    </tr>\n",
       "    <tr>\n",
       "      <th>4</th>\n",
       "      <td>COUNTY</td>\n",
       "      <td>NaN</td>\n",
       "      <td>NaN</td>\n",
       "      <td>NaN</td>\n",
       "      <td>NaN</td>\n",
       "      <td>NaN</td>\n",
       "    </tr>\n",
       "  </tbody>\n",
       "</table>\n",
       "</div>"
      ],
      "text/plain": [
       "    Unnamed: 0     TOTAL      Unnamed: 2      Unnamed: 3      Unnamed: 4  \\\n",
       "0          NaN       NaN          DTP 4+        POLIO 3+           MMR 2   \n",
       "1          NaN  STUDENTS             NaN             NaN             NaN   \n",
       "2          NaN    NUMBER  NUMBER PERCENT  NUMBER PERCENT  NUMBER PERCENT   \n",
       "3  STATE TOTAL   555,735   533,741 96.0%   536,419 96.5%   536,373 96.5%   \n",
       "4       COUNTY       NaN             NaN             NaN             NaN   \n",
       "\n",
       "       Unnamed: 5  \n",
       "0        HEP B 3+  \n",
       "1             NaN  \n",
       "2  NUMBER PERCENT  \n",
       "3   541,074 97.4%  \n",
       "4             NaN  "
      ]
     },
     "execution_count": 3,
     "metadata": {},
     "output_type": "execute_result"
    }
   ],
   "source": [
    "mmr2_1.head()"
   ]
  },
  {
   "cell_type": "code",
   "execution_count": 4,
   "metadata": {},
   "outputs": [
    {
     "data": {
      "text/html": [
       "<div>\n",
       "<style scoped>\n",
       "    .dataframe tbody tr th:only-of-type {\n",
       "        vertical-align: middle;\n",
       "    }\n",
       "\n",
       "    .dataframe tbody tr th {\n",
       "        vertical-align: top;\n",
       "    }\n",
       "\n",
       "    .dataframe thead th {\n",
       "        text-align: right;\n",
       "    }\n",
       "</style>\n",
       "<table border=\"1\" class=\"dataframe\">\n",
       "  <thead>\n",
       "    <tr style=\"text-align: right;\">\n",
       "      <th></th>\n",
       "      <th>Unnamed: 0</th>\n",
       "      <th>TOTAL</th>\n",
       "      <th>Unnamed: 2</th>\n",
       "      <th>Unnamed: 3</th>\n",
       "      <th>Unnamed: 4</th>\n",
       "      <th>Unnamed: 5</th>\n",
       "    </tr>\n",
       "  </thead>\n",
       "  <tbody>\n",
       "    <tr>\n",
       "      <th>0</th>\n",
       "      <td>NaN</td>\n",
       "      <td>NaN</td>\n",
       "      <td>DTP 4+</td>\n",
       "      <td>POLIO 3+</td>\n",
       "      <td>MMR 2</td>\n",
       "      <td>HEP B 3+</td>\n",
       "    </tr>\n",
       "    <tr>\n",
       "      <th>1</th>\n",
       "      <td>NaN</td>\n",
       "      <td>STUDENTS</td>\n",
       "      <td>NaN</td>\n",
       "      <td>NaN</td>\n",
       "      <td>NaN</td>\n",
       "      <td>NaN</td>\n",
       "    </tr>\n",
       "    <tr>\n",
       "      <th>2</th>\n",
       "      <td>NaN</td>\n",
       "      <td>NUMBER</td>\n",
       "      <td>NUMBER PERCENT</td>\n",
       "      <td>NUMBER PERCENT</td>\n",
       "      <td>NUMBER PERCENT</td>\n",
       "      <td>NUMBER PERCENT</td>\n",
       "    </tr>\n",
       "    <tr>\n",
       "      <th>3</th>\n",
       "      <td>STATE TOTAL</td>\n",
       "      <td>555,735</td>\n",
       "      <td>533,741 96.0%</td>\n",
       "      <td>536,419 96.5%</td>\n",
       "      <td>536,373 96.5%</td>\n",
       "      <td>541,074 97.4%</td>\n",
       "    </tr>\n",
       "    <tr>\n",
       "      <th>4</th>\n",
       "      <td>COUNTY</td>\n",
       "      <td>NaN</td>\n",
       "      <td>NaN</td>\n",
       "      <td>NaN</td>\n",
       "      <td>NaN</td>\n",
       "      <td>NaN</td>\n",
       "    </tr>\n",
       "  </tbody>\n",
       "</table>\n",
       "</div>"
      ],
      "text/plain": [
       "    Unnamed: 0     TOTAL      Unnamed: 2      Unnamed: 3      Unnamed: 4  \\\n",
       "0          NaN       NaN          DTP 4+        POLIO 3+           MMR 2   \n",
       "1          NaN  STUDENTS             NaN             NaN             NaN   \n",
       "2          NaN    NUMBER  NUMBER PERCENT  NUMBER PERCENT  NUMBER PERCENT   \n",
       "3  STATE TOTAL   555,735   533,741 96.0%   536,419 96.5%   536,373 96.5%   \n",
       "4       COUNTY       NaN             NaN             NaN             NaN   \n",
       "\n",
       "       Unnamed: 5  \n",
       "0        HEP B 3+  \n",
       "1             NaN  \n",
       "2  NUMBER PERCENT  \n",
       "3   541,074 97.4%  \n",
       "4             NaN  "
      ]
     },
     "execution_count": 4,
     "metadata": {},
     "output_type": "execute_result"
    }
   ],
   "source": [
    "mmr2_2.head()"
   ]
  },
  {
   "cell_type": "markdown",
   "metadata": {},
   "source": [
    "### Little bit of clean up on mmr2_1 data frame"
   ]
  },
  {
   "cell_type": "code",
   "execution_count": 5,
   "metadata": {},
   "outputs": [],
   "source": [
    "# Drop any rows where Unnamed: 0 has an Nan\n",
    "mmr2_1.dropna(subset=['Unnamed: 0'], inplace=True) \n",
    "        \n",
    "# Create a data frame of just the 1st and 5th columns\n",
    "mmr2_1 = mmr2_1[['Unnamed: 0', 'Unnamed: 4']]\n",
    "        \n",
    "# Data frame where first two rows are dropped since we don't need them \n",
    "mmr2_1 = mmr2_1.iloc[2:]\n",
    "        \n",
    "# Rename columns\n",
    "mmr2_1.columns = ['county', 'mmr2_pct']\n",
    "        \n",
    "# Capitalize all county names\n",
    "mmr2_1['county'] = mmr2_1['county'].str.title()\n",
    "        \n",
    "# Pull out vaccination rate from mmr2_pct column\n",
    "vac_rate = []\n",
    "        \n",
    "for mm2_pct in mmr2_1['mmr2_pct']: \n",
    "    \n",
    "    str(vac_rate.append(mm2_pct[-5:]))\n",
    "    \n",
    "mmr2_1.reset_index()\n",
    "mmr2_1['mmr2_pct'] = vac_rate"
   ]
  },
  {
   "cell_type": "code",
   "execution_count": 6,
   "metadata": {},
   "outputs": [
    {
     "data": {
      "text/html": [
       "<div>\n",
       "<style scoped>\n",
       "    .dataframe tbody tr th:only-of-type {\n",
       "        vertical-align: middle;\n",
       "    }\n",
       "\n",
       "    .dataframe tbody tr th {\n",
       "        vertical-align: top;\n",
       "    }\n",
       "\n",
       "    .dataframe thead th {\n",
       "        text-align: right;\n",
       "    }\n",
       "</style>\n",
       "<table border=\"1\" class=\"dataframe\">\n",
       "  <thead>\n",
       "    <tr style=\"text-align: right;\">\n",
       "      <th></th>\n",
       "      <th>county</th>\n",
       "      <th>mmr2_pct</th>\n",
       "    </tr>\n",
       "  </thead>\n",
       "  <tbody>\n",
       "    <tr>\n",
       "      <th>5</th>\n",
       "      <td>Alameda</td>\n",
       "      <td>98.1%</td>\n",
       "    </tr>\n",
       "    <tr>\n",
       "      <th>6</th>\n",
       "      <td>Alpine</td>\n",
       "      <td>--*</td>\n",
       "    </tr>\n",
       "    <tr>\n",
       "      <th>7</th>\n",
       "      <td>Amador</td>\n",
       "      <td>95.7%</td>\n",
       "    </tr>\n",
       "    <tr>\n",
       "      <th>8</th>\n",
       "      <td>Butte</td>\n",
       "      <td>96.3%</td>\n",
       "    </tr>\n",
       "    <tr>\n",
       "      <th>9</th>\n",
       "      <td>Calaveras</td>\n",
       "      <td>91.8%</td>\n",
       "    </tr>\n",
       "  </tbody>\n",
       "</table>\n",
       "</div>"
      ],
      "text/plain": [
       "      county mmr2_pct\n",
       "5    Alameda    98.1%\n",
       "6     Alpine      --*\n",
       "7     Amador    95.7%\n",
       "8      Butte    96.3%\n",
       "9  Calaveras    91.8%"
      ]
     },
     "execution_count": 6,
     "metadata": {},
     "output_type": "execute_result"
    }
   ],
   "source": [
    "mmr2_1.head()"
   ]
  },
  {
   "cell_type": "markdown",
   "metadata": {},
   "source": [
    "### Little bit of clean up on mmr2_2 data frame"
   ]
  },
  {
   "cell_type": "code",
   "execution_count": 7,
   "metadata": {},
   "outputs": [],
   "source": [
    "# Drop any rows where Unnamed: 0 has an Nan\n",
    "mmr2_2.dropna(subset=['Unnamed: 0'], inplace=True) \n",
    "        \n",
    "# Create a data frame of just the 1st and 5th columns\n",
    "mmr2_2 = mmr2_2[['Unnamed: 0', 'Unnamed: 4']]\n",
    "        \n",
    "# Data frame where first two rows are dropped since we don't need them \n",
    "mmr2_2 = mmr2_2.iloc[2:]\n",
    "        \n",
    "# Rename columns\n",
    "mmr2_2.columns = ['county', 'mmr2_pct']\n",
    "        \n",
    "# Capitalize all county names\n",
    "mmr2_2['county'] = mmr2_2['county'].str.title()\n",
    "        \n",
    "# Pull out vaccination rate from mmr2_pct column\n",
    "vac_rate = []\n",
    "        \n",
    "for mm2_pct in mmr2_2['mmr2_pct']: \n",
    "    \n",
    "    vac_rate.append(mm2_pct[-5:])\n",
    "    \n",
    "mmr2_2.reset_index()\n",
    "mmr2_2['mmr2_pct'] = vac_rate"
   ]
  },
  {
   "cell_type": "code",
   "execution_count": 8,
   "metadata": {},
   "outputs": [
    {
     "data": {
      "text/html": [
       "<div>\n",
       "<style scoped>\n",
       "    .dataframe tbody tr th:only-of-type {\n",
       "        vertical-align: middle;\n",
       "    }\n",
       "\n",
       "    .dataframe tbody tr th {\n",
       "        vertical-align: top;\n",
       "    }\n",
       "\n",
       "    .dataframe thead th {\n",
       "        text-align: right;\n",
       "    }\n",
       "</style>\n",
       "<table border=\"1\" class=\"dataframe\">\n",
       "  <thead>\n",
       "    <tr style=\"text-align: right;\">\n",
       "      <th></th>\n",
       "      <th>county</th>\n",
       "      <th>mmr2_pct</th>\n",
       "    </tr>\n",
       "  </thead>\n",
       "  <tbody>\n",
       "    <tr>\n",
       "      <th>5</th>\n",
       "      <td>Orange</td>\n",
       "      <td>97.2%</td>\n",
       "    </tr>\n",
       "    <tr>\n",
       "      <th>6</th>\n",
       "      <td>Placer</td>\n",
       "      <td>94.4%</td>\n",
       "    </tr>\n",
       "    <tr>\n",
       "      <th>7</th>\n",
       "      <td>Plumas</td>\n",
       "      <td>90.0%</td>\n",
       "    </tr>\n",
       "    <tr>\n",
       "      <th>8</th>\n",
       "      <td>Riverside</td>\n",
       "      <td>97.8%</td>\n",
       "    </tr>\n",
       "    <tr>\n",
       "      <th>9</th>\n",
       "      <td>Sacramento</td>\n",
       "      <td>95.8%</td>\n",
       "    </tr>\n",
       "  </tbody>\n",
       "</table>\n",
       "</div>"
      ],
      "text/plain": [
       "       county mmr2_pct\n",
       "5      Orange    97.2%\n",
       "6      Placer    94.4%\n",
       "7      Plumas    90.0%\n",
       "8   Riverside    97.8%\n",
       "9  Sacramento    95.8%"
      ]
     },
     "execution_count": 8,
     "metadata": {},
     "output_type": "execute_result"
    }
   ],
   "source": [
    "mmr2_2.head()"
   ]
  },
  {
   "cell_type": "markdown",
   "metadata": {},
   "source": [
    "### Merge the two data frames together"
   ]
  },
  {
   "cell_type": "code",
   "execution_count": 9,
   "metadata": {},
   "outputs": [],
   "source": [
    "# Concatenate dataframes since columns are same\n",
    "dataframes = [mmr2_1, mmr2_2]\n",
    "\n",
    "merge = pd.concat(dataframes)"
   ]
  },
  {
   "cell_type": "code",
   "execution_count": 10,
   "metadata": {},
   "outputs": [
    {
     "data": {
      "text/html": [
       "<div>\n",
       "<style scoped>\n",
       "    .dataframe tbody tr th:only-of-type {\n",
       "        vertical-align: middle;\n",
       "    }\n",
       "\n",
       "    .dataframe tbody tr th {\n",
       "        vertical-align: top;\n",
       "    }\n",
       "\n",
       "    .dataframe thead th {\n",
       "        text-align: right;\n",
       "    }\n",
       "</style>\n",
       "<table border=\"1\" class=\"dataframe\">\n",
       "  <thead>\n",
       "    <tr style=\"text-align: right;\">\n",
       "      <th></th>\n",
       "      <th>county</th>\n",
       "      <th>mmr2_pct</th>\n",
       "    </tr>\n",
       "  </thead>\n",
       "  <tbody>\n",
       "    <tr>\n",
       "      <th>5</th>\n",
       "      <td>Alameda</td>\n",
       "      <td>98.1%</td>\n",
       "    </tr>\n",
       "    <tr>\n",
       "      <th>6</th>\n",
       "      <td>Alpine</td>\n",
       "      <td>--*</td>\n",
       "    </tr>\n",
       "    <tr>\n",
       "      <th>7</th>\n",
       "      <td>Amador</td>\n",
       "      <td>95.7%</td>\n",
       "    </tr>\n",
       "    <tr>\n",
       "      <th>8</th>\n",
       "      <td>Butte</td>\n",
       "      <td>96.3%</td>\n",
       "    </tr>\n",
       "    <tr>\n",
       "      <th>9</th>\n",
       "      <td>Calaveras</td>\n",
       "      <td>91.8%</td>\n",
       "    </tr>\n",
       "  </tbody>\n",
       "</table>\n",
       "</div>"
      ],
      "text/plain": [
       "      county mmr2_pct\n",
       "5    Alameda    98.1%\n",
       "6     Alpine      --*\n",
       "7     Amador    95.7%\n",
       "8      Butte    96.3%\n",
       "9  Calaveras    91.8%"
      ]
     },
     "execution_count": 10,
     "metadata": {},
     "output_type": "execute_result"
    }
   ],
   "source": [
    "merge.head()"
   ]
  },
  {
   "cell_type": "markdown",
   "metadata": {},
   "source": [
    "### Remove % signs"
   ]
  },
  {
   "cell_type": "code",
   "execution_count": 11,
   "metadata": {},
   "outputs": [],
   "source": [
    "merge['mmr2_pct']= merge['mmr2_pct'].str.replace('%','')"
   ]
  },
  {
   "cell_type": "markdown",
   "metadata": {},
   "source": [
    "### Change --* to zero"
   ]
  },
  {
   "cell_type": "code",
   "execution_count": 12,
   "metadata": {},
   "outputs": [],
   "source": [
    "merge['mmr2_pct'] = merge['mmr2_pct'].str.replace('--*','0')"
   ]
  },
  {
   "cell_type": "markdown",
   "metadata": {},
   "source": [
    "### Get rid of * that remains"
   ]
  },
  {
   "cell_type": "code",
   "execution_count": 13,
   "metadata": {},
   "outputs": [],
   "source": [
    "merge['mmr2_pct'] = merge['mmr2_pct'].str.replace('*','')"
   ]
  },
  {
   "cell_type": "markdown",
   "metadata": {},
   "source": [
    "### Change mmr2_pct column to float instead of string"
   ]
  },
  {
   "cell_type": "code",
   "execution_count": 14,
   "metadata": {},
   "outputs": [],
   "source": [
    "merge['mmr2_pct'] = merge['mmr2_pct'].astype(float)"
   ]
  },
  {
   "cell_type": "markdown",
   "metadata": {},
   "source": [
    "### Output to csv"
   ]
  },
  {
   "cell_type": "code",
   "execution_count": 17,
   "metadata": {},
   "outputs": [],
   "source": [
    "merge.to_csv('./data/output/mmr2_vax_rates.csv', index=False)"
   ]
  }
 ],
 "metadata": {
  "kernelspec": {
   "display_name": "Python 3",
   "language": "python",
   "name": "python3"
  },
  "language_info": {
   "codemirror_mode": {
    "name": "ipython",
    "version": 3
   },
   "file_extension": ".py",
   "mimetype": "text/x-python",
   "name": "python",
   "nbconvert_exporter": "python",
   "pygments_lexer": "ipython3",
   "version": "3.7.1"
  }
 },
 "nbformat": 4,
 "nbformat_minor": 2
}
