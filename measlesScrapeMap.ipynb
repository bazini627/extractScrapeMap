{
 "cells": [
  {
   "cell_type": "code",
   "execution_count": 1,
   "metadata": {},
   "outputs": [],
   "source": [
    "import pandas as pd\n",
    "import geopandas as gpd\n",
    "import matplotlib.pyplot as plt\n",
    "from bs4 import BeautifulSoup\n",
    "import requests"
   ]
  },
  {
   "cell_type": "markdown",
   "metadata": {},
   "source": [
    "### Use BeautifulSoup to pull in data from provided URL"
   ]
  },
  {
   "cell_type": "code",
   "execution_count": 2,
   "metadata": {},
   "outputs": [],
   "source": [
    "# URL to scrape\n",
    "url = 'https://www.cdph.ca.gov/Programs/CID/DCDC/Pages/Immunization/measles.aspx'\n",
    "# Response from url whether it was sucessful or not\n",
    "response = requests.get(url)\n",
    "# The actual html of the page\n",
    "html = response.content\n",
    "# Parse the html with BeautifulSoup\n",
    "soup = BeautifulSoup(html,\"html.parser\")\n",
    "# Find the table tag in the parsed html\n",
    "table = soup.find('table')"
   ]
  },
  {
   "cell_type": "markdown",
   "metadata": {},
   "source": [
    "### Loop over the table and pull out necessary data "
   ]
  },
  {
   "cell_type": "code",
   "execution_count": 3,
   "metadata": {},
   "outputs": [],
   "source": [
    "# Empty list to hold extracted row data\n",
    "list_of_rows = []\n",
    "\n",
    "# Loop through and find all the 'tr' tags in the table html\n",
    "for row in table.findAll('tr')[:]:\n",
    "    # Empty list to hold individual cell data\n",
    "    list_of_cells = []\n",
    "    # Loop through and find all the 'td' tags in the table html\n",
    "    for cell in row.findAll('td'):\n",
    "        # Replace the unicode charcters with nothing\n",
    "        text = cell.text.replace(u'\\u200b', '')\n",
    "        # Add cleaned up text to empty list_of_cells list\n",
    "        list_of_cells.append(text)\n",
    "    # Add the list_of_cells list to the list_of_rows list\n",
    "    list_of_rows.append(list_of_cells)"
   ]
  },
  {
   "cell_type": "markdown",
   "metadata": {},
   "source": [
    "### Take a peek at the list_of_rows list of lists"
   ]
  },
  {
   "cell_type": "code",
   "execution_count": 4,
   "metadata": {},
   "outputs": [
    {
     "data": {
      "text/plain": [
       "[['\\nCounty',\n",
       "  'Total Cases',\n",
       "  'Pediatric Cases (<18 Years)',\n",
       "  'Adult Cases (18 Years or Older)'],\n",
       " ['Alameda*', '1', '0', '1'],\n",
       " ['Los Angeles*', '22', '3†', '19'],\n",
       " ['Orange', '5', '2', '3'],\n",
       " ['Placer', '3', '2', '1'],\n",
       " ['Sacramento', '3', '2', '1'],\n",
       " ['San Bernardino', '2', '1', '1'],\n",
       " ['San Diego', '2', '1', '1'],\n",
       " ['San Francisco', '1', '0', '1'],\n",
       " ['San Mateo', '6', '1', '5'],\n",
       " ['Santa Barbara', '2', '0', '2'],\n",
       " ['Santa Clara', '5', '1', '4'],\n",
       " ['Santa Cruz', '1', '0', '1'],\n",
       " ['Other§', '19', '3', '16'],\n",
       " ['Total', '72', '16', '56']]"
      ]
     },
     "execution_count": 4,
     "metadata": {},
     "output_type": "execute_result"
    }
   ],
   "source": [
    "list_of_rows"
   ]
  },
  {
   "cell_type": "markdown",
   "metadata": {},
   "source": [
    "### Create data frame from list"
   ]
  },
  {
   "cell_type": "code",
   "execution_count": 5,
   "metadata": {},
   "outputs": [],
   "source": [
    "measles = pd.DataFrame(list_of_rows)"
   ]
  },
  {
   "cell_type": "markdown",
   "metadata": {},
   "source": [
    "### Make the first row the header row"
   ]
  },
  {
   "cell_type": "code",
   "execution_count": 6,
   "metadata": {},
   "outputs": [],
   "source": [
    "measles = measles.rename(columns=measles.iloc[0])"
   ]
  },
  {
   "cell_type": "markdown",
   "metadata": {},
   "source": [
    "### Drop the first index row since we won't need it anymore"
   ]
  },
  {
   "cell_type": "code",
   "execution_count": 7,
   "metadata": {},
   "outputs": [],
   "source": [
    "measles = measles.drop(measles.index[0])"
   ]
  },
  {
   "cell_type": "markdown",
   "metadata": {},
   "source": [
    "### Rename columns"
   ]
  },
  {
   "cell_type": "code",
   "execution_count": 12,
   "metadata": {},
   "outputs": [],
   "source": [
    "# Doesn't seem to work anymore 12/18/19\n",
    "#measles.rename(columns={'County' : 'county', 'Total\\r\\nCases' : 'total', 'Pediatric\\r\\nCases (<18 Years)' : 'pediatric', 'Adult\\r\\nCases (18 Years or Older)' : 'adult'}, inplace=True)\n",
    "measles.columns = ['county', 'total', 'pediatric', 'adult']"
   ]
  },
  {
   "cell_type": "code",
   "execution_count": 13,
   "metadata": {},
   "outputs": [],
   "source": [
    "# Clean up a few values in our columns\n",
    "measles['pediatric'].replace('3†','3', inplace=True)\n",
    "measles['county'] = measles['county'].str.replace(r'\\*$','')\n",
    "measles['county'] = measles['county'].str.replace(r'§$','')"
   ]
  },
  {
   "cell_type": "markdown",
   "metadata": {},
   "source": [
    "### Take a look at column types for the data frame"
   ]
  },
  {
   "cell_type": "code",
   "execution_count": 14,
   "metadata": {},
   "outputs": [
    {
     "name": "stdout",
     "output_type": "stream",
     "text": [
      "<class 'pandas.core.frame.DataFrame'>\n",
      "Int64Index: 14 entries, 1 to 14\n",
      "Data columns (total 4 columns):\n",
      "county       14 non-null object\n",
      "total        14 non-null object\n",
      "pediatric    14 non-null object\n",
      "adult        14 non-null object\n",
      "dtypes: object(4)\n",
      "memory usage: 560.0+ bytes\n"
     ]
    }
   ],
   "source": [
    "measles.info()"
   ]
  },
  {
   "cell_type": "code",
   "execution_count": 15,
   "metadata": {},
   "outputs": [
    {
     "data": {
      "text/html": [
       "<div>\n",
       "<style scoped>\n",
       "    .dataframe tbody tr th:only-of-type {\n",
       "        vertical-align: middle;\n",
       "    }\n",
       "\n",
       "    .dataframe tbody tr th {\n",
       "        vertical-align: top;\n",
       "    }\n",
       "\n",
       "    .dataframe thead th {\n",
       "        text-align: right;\n",
       "    }\n",
       "</style>\n",
       "<table border=\"1\" class=\"dataframe\">\n",
       "  <thead>\n",
       "    <tr style=\"text-align: right;\">\n",
       "      <th></th>\n",
       "      <th>county</th>\n",
       "      <th>total</th>\n",
       "      <th>pediatric</th>\n",
       "      <th>adult</th>\n",
       "    </tr>\n",
       "  </thead>\n",
       "  <tbody>\n",
       "    <tr>\n",
       "      <th>1</th>\n",
       "      <td>Alameda</td>\n",
       "      <td>1</td>\n",
       "      <td>0</td>\n",
       "      <td>1</td>\n",
       "    </tr>\n",
       "    <tr>\n",
       "      <th>2</th>\n",
       "      <td>Los Angeles</td>\n",
       "      <td>22</td>\n",
       "      <td>3</td>\n",
       "      <td>19</td>\n",
       "    </tr>\n",
       "    <tr>\n",
       "      <th>3</th>\n",
       "      <td>Orange</td>\n",
       "      <td>5</td>\n",
       "      <td>2</td>\n",
       "      <td>3</td>\n",
       "    </tr>\n",
       "    <tr>\n",
       "      <th>4</th>\n",
       "      <td>Placer</td>\n",
       "      <td>3</td>\n",
       "      <td>2</td>\n",
       "      <td>1</td>\n",
       "    </tr>\n",
       "    <tr>\n",
       "      <th>5</th>\n",
       "      <td>Sacramento</td>\n",
       "      <td>3</td>\n",
       "      <td>2</td>\n",
       "      <td>1</td>\n",
       "    </tr>\n",
       "    <tr>\n",
       "      <th>6</th>\n",
       "      <td>San Bernardino</td>\n",
       "      <td>2</td>\n",
       "      <td>1</td>\n",
       "      <td>1</td>\n",
       "    </tr>\n",
       "    <tr>\n",
       "      <th>7</th>\n",
       "      <td>San Diego</td>\n",
       "      <td>2</td>\n",
       "      <td>1</td>\n",
       "      <td>1</td>\n",
       "    </tr>\n",
       "    <tr>\n",
       "      <th>8</th>\n",
       "      <td>San Francisco</td>\n",
       "      <td>1</td>\n",
       "      <td>0</td>\n",
       "      <td>1</td>\n",
       "    </tr>\n",
       "    <tr>\n",
       "      <th>9</th>\n",
       "      <td>San Mateo</td>\n",
       "      <td>6</td>\n",
       "      <td>1</td>\n",
       "      <td>5</td>\n",
       "    </tr>\n",
       "    <tr>\n",
       "      <th>10</th>\n",
       "      <td>Santa Barbara</td>\n",
       "      <td>2</td>\n",
       "      <td>0</td>\n",
       "      <td>2</td>\n",
       "    </tr>\n",
       "    <tr>\n",
       "      <th>11</th>\n",
       "      <td>Santa Clara</td>\n",
       "      <td>5</td>\n",
       "      <td>1</td>\n",
       "      <td>4</td>\n",
       "    </tr>\n",
       "    <tr>\n",
       "      <th>12</th>\n",
       "      <td>Santa Cruz</td>\n",
       "      <td>1</td>\n",
       "      <td>0</td>\n",
       "      <td>1</td>\n",
       "    </tr>\n",
       "    <tr>\n",
       "      <th>13</th>\n",
       "      <td>Other</td>\n",
       "      <td>19</td>\n",
       "      <td>3</td>\n",
       "      <td>16</td>\n",
       "    </tr>\n",
       "    <tr>\n",
       "      <th>14</th>\n",
       "      <td>Total</td>\n",
       "      <td>72</td>\n",
       "      <td>16</td>\n",
       "      <td>56</td>\n",
       "    </tr>\n",
       "  </tbody>\n",
       "</table>\n",
       "</div>"
      ],
      "text/plain": [
       "            county total pediatric adult\n",
       "1          Alameda     1         0     1\n",
       "2      Los Angeles    22         3    19\n",
       "3           Orange     5         2     3\n",
       "4           Placer     3         2     1\n",
       "5       Sacramento     3         2     1\n",
       "6   San Bernardino     2         1     1\n",
       "7        San Diego     2         1     1\n",
       "8    San Francisco     1         0     1\n",
       "9        San Mateo     6         1     5\n",
       "10   Santa Barbara     2         0     2\n",
       "11     Santa Clara     5         1     4\n",
       "12      Santa Cruz     1         0     1\n",
       "13           Other    19         3    16\n",
       "14           Total    72        16    56"
      ]
     },
     "execution_count": 15,
     "metadata": {},
     "output_type": "execute_result"
    }
   ],
   "source": [
    "measles"
   ]
  },
  {
   "cell_type": "markdown",
   "metadata": {},
   "source": [
    "### Convert case count columns to numeric instead of string"
   ]
  },
  {
   "cell_type": "code",
   "execution_count": 16,
   "metadata": {},
   "outputs": [],
   "source": [
    "# Convert case count columns to numeric instead of string; using apply\n",
    "#cols = ['total', 'pediatric', 'adult']\n",
    "#%timeit df[cols] = df[cols].apply(pd.to_numeric, errors='coerce', axis=1)\n",
    "\n",
    "# # Convert case count columns to numeric instead of string; using list comprhension\n",
    "measles[['total', 'pediatric', 'adult']] = pd.concat([measles[col].astype(int) for col in measles[['total', 'pediatric', 'adult']]],1)"
   ]
  },
  {
   "cell_type": "markdown",
   "metadata": {},
   "source": [
    "### Make sure column types have changed"
   ]
  },
  {
   "cell_type": "code",
   "execution_count": 17,
   "metadata": {},
   "outputs": [
    {
     "name": "stdout",
     "output_type": "stream",
     "text": [
      "<class 'pandas.core.frame.DataFrame'>\n",
      "Int64Index: 14 entries, 1 to 14\n",
      "Data columns (total 4 columns):\n",
      "county       14 non-null object\n",
      "total        14 non-null int32\n",
      "pediatric    14 non-null int32\n",
      "adult        14 non-null int32\n",
      "dtypes: int32(3), object(1)\n",
      "memory usage: 392.0+ bytes\n"
     ]
    }
   ],
   "source": [
    "measles.info()"
   ]
  },
  {
   "cell_type": "markdown",
   "metadata": {},
   "source": [
    "### Output data to csv file"
   ]
  },
  {
   "cell_type": "code",
   "execution_count": 18,
   "metadata": {},
   "outputs": [],
   "source": [
    "measles.to_csv('./data/output/measlesCases.csv', index=False)"
   ]
  },
  {
   "cell_type": "markdown",
   "metadata": {},
   "source": [
    "### Read in CA GeoJSON"
   ]
  },
  {
   "cell_type": "code",
   "execution_count": 19,
   "metadata": {},
   "outputs": [],
   "source": [
    "cali = gpd.read_file('./data/caCountiesNoChannelIslands.geojson')"
   ]
  },
  {
   "cell_type": "code",
   "execution_count": 20,
   "metadata": {},
   "outputs": [
    {
     "data": {
      "text/html": [
       "<div>\n",
       "<style scoped>\n",
       "    .dataframe tbody tr th:only-of-type {\n",
       "        vertical-align: middle;\n",
       "    }\n",
       "\n",
       "    .dataframe tbody tr th {\n",
       "        vertical-align: top;\n",
       "    }\n",
       "\n",
       "    .dataframe thead th {\n",
       "        text-align: right;\n",
       "    }\n",
       "</style>\n",
       "<table border=\"1\" class=\"dataframe\">\n",
       "  <thead>\n",
       "    <tr style=\"text-align: right;\">\n",
       "      <th></th>\n",
       "      <th>COUNTYNS</th>\n",
       "      <th>GEOID</th>\n",
       "      <th>NAME</th>\n",
       "      <th>ALAND</th>\n",
       "      <th>AWATER</th>\n",
       "      <th>geometry</th>\n",
       "    </tr>\n",
       "  </thead>\n",
       "  <tbody>\n",
       "    <tr>\n",
       "      <th>0</th>\n",
       "      <td>00277302</td>\n",
       "      <td>06075</td>\n",
       "      <td>San Francisco</td>\n",
       "      <td>121485107</td>\n",
       "      <td>479107241</td>\n",
       "      <td>MULTIPOLYGON (((-122.51448 37.78083, -122.5098...</td>\n",
       "    </tr>\n",
       "    <tr>\n",
       "      <th>1</th>\n",
       "      <td>00277320</td>\n",
       "      <td>06111</td>\n",
       "      <td>Ventura</td>\n",
       "      <td>4773302741</td>\n",
       "      <td>946030569</td>\n",
       "      <td>MULTIPOLYGON (((-119.47784 34.37942, -119.4737...</td>\n",
       "    </tr>\n",
       "    <tr>\n",
       "      <th>2</th>\n",
       "      <td>00277300</td>\n",
       "      <td>06071</td>\n",
       "      <td>San Bernardino</td>\n",
       "      <td>51948123813</td>\n",
       "      <td>123845007</td>\n",
       "      <td>MULTIPOLYGON (((-117.80254 33.97555, -117.7911...</td>\n",
       "    </tr>\n",
       "    <tr>\n",
       "      <th>3</th>\n",
       "      <td>00277286</td>\n",
       "      <td>06043</td>\n",
       "      <td>Mariposa</td>\n",
       "      <td>3752472156</td>\n",
       "      <td>36225644</td>\n",
       "      <td>MULTIPOLYGON (((-120.39442 37.67504, -120.3925...</td>\n",
       "    </tr>\n",
       "    <tr>\n",
       "      <th>4</th>\n",
       "      <td>01692767</td>\n",
       "      <td>06103</td>\n",
       "      <td>Tehama</td>\n",
       "      <td>7638228772</td>\n",
       "      <td>33767784</td>\n",
       "      <td>MULTIPOLYGON (((-123.06543 40.28697, -123.0607...</td>\n",
       "    </tr>\n",
       "  </tbody>\n",
       "</table>\n",
       "</div>"
      ],
      "text/plain": [
       "   COUNTYNS  GEOID            NAME        ALAND     AWATER  \\\n",
       "0  00277302  06075   San Francisco    121485107  479107241   \n",
       "1  00277320  06111         Ventura   4773302741  946030569   \n",
       "2  00277300  06071  San Bernardino  51948123813  123845007   \n",
       "3  00277286  06043        Mariposa   3752472156   36225644   \n",
       "4  01692767  06103          Tehama   7638228772   33767784   \n",
       "\n",
       "                                            geometry  \n",
       "0  MULTIPOLYGON (((-122.51448 37.78083, -122.5098...  \n",
       "1  MULTIPOLYGON (((-119.47784 34.37942, -119.4737...  \n",
       "2  MULTIPOLYGON (((-117.80254 33.97555, -117.7911...  \n",
       "3  MULTIPOLYGON (((-120.39442 37.67504, -120.3925...  \n",
       "4  MULTIPOLYGON (((-123.06543 40.28697, -123.0607...  "
      ]
     },
     "execution_count": 20,
     "metadata": {},
     "output_type": "execute_result"
    }
   ],
   "source": [
    "cali.head()"
   ]
  },
  {
   "cell_type": "markdown",
   "metadata": {},
   "source": [
    "### Quick peek at a plot of the GeoJSON"
   ]
  },
  {
   "cell_type": "code",
   "execution_count": 21,
   "metadata": {},
   "outputs": [
    {
     "data": {
      "text/plain": [
       "<matplotlib.axes._subplots.AxesSubplot at 0x2280300e748>"
      ]
     },
     "execution_count": 21,
     "metadata": {},
     "output_type": "execute_result"
    },
    {
     "data": {
      "image/png": "[encoded data removed]",
      "text/plain": [
       "<Figure size 432x432 with 1 Axes>"
      ]
     },
     "metadata": {
      "needs_background": "light"
     },
     "output_type": "display_data"
    }
   ],
   "source": [
    "cali.plot(figsize=(6, 6))"
   ]
  },
  {
   "cell_type": "markdown",
   "metadata": {},
   "source": [
    "### Drop some columns we don't need and set headers to all lowercase"
   ]
  },
  {
   "cell_type": "code",
   "execution_count": 22,
   "metadata": {},
   "outputs": [],
   "source": [
    "cali = cali.drop(['COUNTYNS', 'GEOID', 'ALAND','AWATER'], axis=1)\n",
    "cali = cali.rename(str.lower, axis=1)"
   ]
  },
  {
   "cell_type": "markdown",
   "metadata": {},
   "source": [
    "### Merge our cali (GeoJSON) and measles_df (scraped data) data frames"
   ]
  },
  {
   "cell_type": "code",
   "execution_count": 23,
   "metadata": {},
   "outputs": [],
   "source": [
    "merged_mmr = cali.set_index('name').join(measles.set_index('county'))"
   ]
  },
  {
   "cell_type": "code",
   "execution_count": 24,
   "metadata": {},
   "outputs": [
    {
     "data": {
      "text/html": [
       "<div>\n",
       "<style scoped>\n",
       "    .dataframe tbody tr th:only-of-type {\n",
       "        vertical-align: middle;\n",
       "    }\n",
       "\n",
       "    .dataframe tbody tr th {\n",
       "        vertical-align: top;\n",
       "    }\n",
       "\n",
       "    .dataframe thead th {\n",
       "        text-align: right;\n",
       "    }\n",
       "</style>\n",
       "<table border=\"1\" class=\"dataframe\">\n",
       "  <thead>\n",
       "    <tr style=\"text-align: right;\">\n",
       "      <th></th>\n",
       "      <th>geometry</th>\n",
       "      <th>total</th>\n",
       "      <th>pediatric</th>\n",
       "      <th>adult</th>\n",
       "    </tr>\n",
       "    <tr>\n",
       "      <th>name</th>\n",
       "      <th></th>\n",
       "      <th></th>\n",
       "      <th></th>\n",
       "      <th></th>\n",
       "    </tr>\n",
       "  </thead>\n",
       "  <tbody>\n",
       "    <tr>\n",
       "      <th>San Francisco</th>\n",
       "      <td>MULTIPOLYGON (((-122.51448 37.78083, -122.5098...</td>\n",
       "      <td>1.0</td>\n",
       "      <td>0.0</td>\n",
       "      <td>1.0</td>\n",
       "    </tr>\n",
       "    <tr>\n",
       "      <th>Ventura</th>\n",
       "      <td>MULTIPOLYGON (((-119.47784 34.37942, -119.4737...</td>\n",
       "      <td>NaN</td>\n",
       "      <td>NaN</td>\n",
       "      <td>NaN</td>\n",
       "    </tr>\n",
       "    <tr>\n",
       "      <th>San Bernardino</th>\n",
       "      <td>MULTIPOLYGON (((-117.80254 33.97555, -117.7911...</td>\n",
       "      <td>2.0</td>\n",
       "      <td>1.0</td>\n",
       "      <td>1.0</td>\n",
       "    </tr>\n",
       "    <tr>\n",
       "      <th>Mariposa</th>\n",
       "      <td>MULTIPOLYGON (((-120.39442 37.67504, -120.3925...</td>\n",
       "      <td>NaN</td>\n",
       "      <td>NaN</td>\n",
       "      <td>NaN</td>\n",
       "    </tr>\n",
       "    <tr>\n",
       "      <th>Tehama</th>\n",
       "      <td>MULTIPOLYGON (((-123.06543 40.28697, -123.0607...</td>\n",
       "      <td>NaN</td>\n",
       "      <td>NaN</td>\n",
       "      <td>NaN</td>\n",
       "    </tr>\n",
       "  </tbody>\n",
       "</table>\n",
       "</div>"
      ],
      "text/plain": [
       "                                                         geometry  total  \\\n",
       "name                                                                       \n",
       "San Francisco   MULTIPOLYGON (((-122.51448 37.78083, -122.5098...    1.0   \n",
       "Ventura         MULTIPOLYGON (((-119.47784 34.37942, -119.4737...    NaN   \n",
       "San Bernardino  MULTIPOLYGON (((-117.80254 33.97555, -117.7911...    2.0   \n",
       "Mariposa        MULTIPOLYGON (((-120.39442 37.67504, -120.3925...    NaN   \n",
       "Tehama          MULTIPOLYGON (((-123.06543 40.28697, -123.0607...    NaN   \n",
       "\n",
       "                pediatric  adult  \n",
       "name                              \n",
       "San Francisco         0.0    1.0  \n",
       "Ventura               NaN    NaN  \n",
       "San Bernardino        1.0    1.0  \n",
       "Mariposa              NaN    NaN  \n",
       "Tehama                NaN    NaN  "
      ]
     },
     "execution_count": 24,
     "metadata": {},
     "output_type": "execute_result"
    }
   ],
   "source": [
    "merged_mmr.head()"
   ]
  },
  {
   "cell_type": "markdown",
   "metadata": {},
   "source": [
    "### Read in the vax rates file which was produced in the measlesVaxRates notebook"
   ]
  },
  {
   "cell_type": "code",
   "execution_count": 25,
   "metadata": {},
   "outputs": [],
   "source": [
    "vax_rate = pd.read_csv('./data/output/mmr2_vax_rates.csv')"
   ]
  },
  {
   "cell_type": "code",
   "execution_count": 26,
   "metadata": {},
   "outputs": [
    {
     "data": {
      "text/html": [
       "<div>\n",
       "<style scoped>\n",
       "    .dataframe tbody tr th:only-of-type {\n",
       "        vertical-align: middle;\n",
       "    }\n",
       "\n",
       "    .dataframe tbody tr th {\n",
       "        vertical-align: top;\n",
       "    }\n",
       "\n",
       "    .dataframe thead th {\n",
       "        text-align: right;\n",
       "    }\n",
       "</style>\n",
       "<table border=\"1\" class=\"dataframe\">\n",
       "  <thead>\n",
       "    <tr style=\"text-align: right;\">\n",
       "      <th></th>\n",
       "      <th>county</th>\n",
       "      <th>mmr2_pct</th>\n",
       "    </tr>\n",
       "  </thead>\n",
       "  <tbody>\n",
       "    <tr>\n",
       "      <th>0</th>\n",
       "      <td>Alameda</td>\n",
       "      <td>98.1</td>\n",
       "    </tr>\n",
       "    <tr>\n",
       "      <th>1</th>\n",
       "      <td>Alpine</td>\n",
       "      <td>0.0</td>\n",
       "    </tr>\n",
       "    <tr>\n",
       "      <th>2</th>\n",
       "      <td>Amador</td>\n",
       "      <td>95.7</td>\n",
       "    </tr>\n",
       "    <tr>\n",
       "      <th>3</th>\n",
       "      <td>Butte</td>\n",
       "      <td>96.3</td>\n",
       "    </tr>\n",
       "    <tr>\n",
       "      <th>4</th>\n",
       "      <td>Calaveras</td>\n",
       "      <td>91.8</td>\n",
       "    </tr>\n",
       "  </tbody>\n",
       "</table>\n",
       "</div>"
      ],
      "text/plain": [
       "      county  mmr2_pct\n",
       "0    Alameda      98.1\n",
       "1     Alpine       0.0\n",
       "2     Amador      95.7\n",
       "3      Butte      96.3\n",
       "4  Calaveras      91.8"
      ]
     },
     "execution_count": 26,
     "metadata": {},
     "output_type": "execute_result"
    }
   ],
   "source": [
    "vax_rate.head()"
   ]
  },
  {
   "cell_type": "markdown",
   "metadata": {},
   "source": [
    "### Merge the vax_rate data frame with the previously merged (cali + measles) data frame "
   ]
  },
  {
   "cell_type": "code",
   "execution_count": 27,
   "metadata": {},
   "outputs": [],
   "source": [
    "merged_mmr = merged_mmr.join(vax_rate.set_index('county'))"
   ]
  },
  {
   "cell_type": "code",
   "execution_count": 28,
   "metadata": {},
   "outputs": [
    {
     "data": {
      "text/html": [
       "<div>\n",
       "<style scoped>\n",
       "    .dataframe tbody tr th:only-of-type {\n",
       "        vertical-align: middle;\n",
       "    }\n",
       "\n",
       "    .dataframe tbody tr th {\n",
       "        vertical-align: top;\n",
       "    }\n",
       "\n",
       "    .dataframe thead th {\n",
       "        text-align: right;\n",
       "    }\n",
       "</style>\n",
       "<table border=\"1\" class=\"dataframe\">\n",
       "  <thead>\n",
       "    <tr style=\"text-align: right;\">\n",
       "      <th></th>\n",
       "      <th>geometry</th>\n",
       "      <th>total</th>\n",
       "      <th>pediatric</th>\n",
       "      <th>adult</th>\n",
       "      <th>mmr2_pct</th>\n",
       "    </tr>\n",
       "    <tr>\n",
       "      <th>name</th>\n",
       "      <th></th>\n",
       "      <th></th>\n",
       "      <th></th>\n",
       "      <th></th>\n",
       "      <th></th>\n",
       "    </tr>\n",
       "  </thead>\n",
       "  <tbody>\n",
       "    <tr>\n",
       "      <th>San Francisco</th>\n",
       "      <td>MULTIPOLYGON (((-122.51448 37.78083, -122.5098...</td>\n",
       "      <td>1.0</td>\n",
       "      <td>0.0</td>\n",
       "      <td>1.0</td>\n",
       "      <td>97.3</td>\n",
       "    </tr>\n",
       "    <tr>\n",
       "      <th>Ventura</th>\n",
       "      <td>MULTIPOLYGON (((-119.47784 34.37942, -119.4737...</td>\n",
       "      <td>NaN</td>\n",
       "      <td>NaN</td>\n",
       "      <td>NaN</td>\n",
       "      <td>97.2</td>\n",
       "    </tr>\n",
       "    <tr>\n",
       "      <th>San Bernardino</th>\n",
       "      <td>MULTIPOLYGON (((-117.80254 33.97555, -117.7911...</td>\n",
       "      <td>2.0</td>\n",
       "      <td>1.0</td>\n",
       "      <td>1.0</td>\n",
       "      <td>97.1</td>\n",
       "    </tr>\n",
       "    <tr>\n",
       "      <th>Mariposa</th>\n",
       "      <td>MULTIPOLYGON (((-120.39442 37.67504, -120.3925...</td>\n",
       "      <td>NaN</td>\n",
       "      <td>NaN</td>\n",
       "      <td>NaN</td>\n",
       "      <td>94.9</td>\n",
       "    </tr>\n",
       "    <tr>\n",
       "      <th>Tehama</th>\n",
       "      <td>MULTIPOLYGON (((-123.06543 40.28697, -123.0607...</td>\n",
       "      <td>NaN</td>\n",
       "      <td>NaN</td>\n",
       "      <td>NaN</td>\n",
       "      <td>95.9</td>\n",
       "    </tr>\n",
       "  </tbody>\n",
       "</table>\n",
       "</div>"
      ],
      "text/plain": [
       "                                                         geometry  total  \\\n",
       "name                                                                       \n",
       "San Francisco   MULTIPOLYGON (((-122.51448 37.78083, -122.5098...    1.0   \n",
       "Ventura         MULTIPOLYGON (((-119.47784 34.37942, -119.4737...    NaN   \n",
       "San Bernardino  MULTIPOLYGON (((-117.80254 33.97555, -117.7911...    2.0   \n",
       "Mariposa        MULTIPOLYGON (((-120.39442 37.67504, -120.3925...    NaN   \n",
       "Tehama          MULTIPOLYGON (((-123.06543 40.28697, -123.0607...    NaN   \n",
       "\n",
       "                pediatric  adult  mmr2_pct  \n",
       "name                                        \n",
       "San Francisco         0.0    1.0      97.3  \n",
       "Ventura               NaN    NaN      97.2  \n",
       "San Bernardino        1.0    1.0      97.1  \n",
       "Mariposa              NaN    NaN      94.9  \n",
       "Tehama                NaN    NaN      95.9  "
      ]
     },
     "execution_count": 28,
     "metadata": {},
     "output_type": "execute_result"
    }
   ],
   "source": [
    "merged_mmr.head()"
   ]
  },
  {
   "cell_type": "markdown",
   "metadata": {},
   "source": [
    "### Fill in all the NaNs in the merged_mmr data frame with zeroes"
   ]
  },
  {
   "cell_type": "code",
   "execution_count": 30,
   "metadata": {},
   "outputs": [],
   "source": [
    "# Can't use across whole data frame as of geopandas 0.6, worked in older versions\n",
    "#merged_mmr = merged_mmr.fillna(0)\n",
    "# Have to fill NaN in data frame by specifying each column\n",
    "merged_mmr = merged_mmr.fillna({'total' : 0, 'pediatric': 0, 'adult': 0})"
   ]
  },
  {
   "cell_type": "code",
   "execution_count": 31,
   "metadata": {},
   "outputs": [
    {
     "data": {
      "text/html": [
       "<div>\n",
       "<style scoped>\n",
       "    .dataframe tbody tr th:only-of-type {\n",
       "        vertical-align: middle;\n",
       "    }\n",
       "\n",
       "    .dataframe tbody tr th {\n",
       "        vertical-align: top;\n",
       "    }\n",
       "\n",
       "    .dataframe thead th {\n",
       "        text-align: right;\n",
       "    }\n",
       "</style>\n",
       "<table border=\"1\" class=\"dataframe\">\n",
       "  <thead>\n",
       "    <tr style=\"text-align: right;\">\n",
       "      <th></th>\n",
       "      <th>geometry</th>\n",
       "      <th>total</th>\n",
       "      <th>pediatric</th>\n",
       "      <th>adult</th>\n",
       "      <th>mmr2_pct</th>\n",
       "    </tr>\n",
       "    <tr>\n",
       "      <th>name</th>\n",
       "      <th></th>\n",
       "      <th></th>\n",
       "      <th></th>\n",
       "      <th></th>\n",
       "      <th></th>\n",
       "    </tr>\n",
       "  </thead>\n",
       "  <tbody>\n",
       "    <tr>\n",
       "      <th>San Francisco</th>\n",
       "      <td>MULTIPOLYGON (((-122.51448 37.78083, -122.5098...</td>\n",
       "      <td>1.0</td>\n",
       "      <td>0.0</td>\n",
       "      <td>1.0</td>\n",
       "      <td>97.3</td>\n",
       "    </tr>\n",
       "    <tr>\n",
       "      <th>Ventura</th>\n",
       "      <td>MULTIPOLYGON (((-119.47784 34.37942, -119.4737...</td>\n",
       "      <td>0.0</td>\n",
       "      <td>0.0</td>\n",
       "      <td>0.0</td>\n",
       "      <td>97.2</td>\n",
       "    </tr>\n",
       "    <tr>\n",
       "      <th>San Bernardino</th>\n",
       "      <td>MULTIPOLYGON (((-117.80254 33.97555, -117.7911...</td>\n",
       "      <td>2.0</td>\n",
       "      <td>1.0</td>\n",
       "      <td>1.0</td>\n",
       "      <td>97.1</td>\n",
       "    </tr>\n",
       "    <tr>\n",
       "      <th>Mariposa</th>\n",
       "      <td>MULTIPOLYGON (((-120.39442 37.67504, -120.3925...</td>\n",
       "      <td>0.0</td>\n",
       "      <td>0.0</td>\n",
       "      <td>0.0</td>\n",
       "      <td>94.9</td>\n",
       "    </tr>\n",
       "    <tr>\n",
       "      <th>Tehama</th>\n",
       "      <td>MULTIPOLYGON (((-123.06543 40.28697, -123.0607...</td>\n",
       "      <td>0.0</td>\n",
       "      <td>0.0</td>\n",
       "      <td>0.0</td>\n",
       "      <td>95.9</td>\n",
       "    </tr>\n",
       "  </tbody>\n",
       "</table>\n",
       "</div>"
      ],
      "text/plain": [
       "                                                         geometry  total  \\\n",
       "name                                                                       \n",
       "San Francisco   MULTIPOLYGON (((-122.51448 37.78083, -122.5098...    1.0   \n",
       "Ventura         MULTIPOLYGON (((-119.47784 34.37942, -119.4737...    0.0   \n",
       "San Bernardino  MULTIPOLYGON (((-117.80254 33.97555, -117.7911...    2.0   \n",
       "Mariposa        MULTIPOLYGON (((-120.39442 37.67504, -120.3925...    0.0   \n",
       "Tehama          MULTIPOLYGON (((-123.06543 40.28697, -123.0607...    0.0   \n",
       "\n",
       "                pediatric  adult  mmr2_pct  \n",
       "name                                        \n",
       "San Francisco         0.0    1.0      97.3  \n",
       "Ventura               0.0    0.0      97.2  \n",
       "San Bernardino        1.0    1.0      97.1  \n",
       "Mariposa              0.0    0.0      94.9  \n",
       "Tehama                0.0    0.0      95.9  "
      ]
     },
     "execution_count": 31,
     "metadata": {},
     "output_type": "execute_result"
    }
   ],
   "source": [
    "merged_mmr.head()"
   ]
  },
  {
   "cell_type": "markdown",
   "metadata": {},
   "source": [
    "### Create a point data frame from our merged_mmr data frame which will be used to create bubble markers on a map"
   ]
  },
  {
   "cell_type": "code",
   "execution_count": 32,
   "metadata": {},
   "outputs": [],
   "source": [
    "merged_mmr_pt = merged_mmr.copy()\n",
    "merged_mmr_pt[\"geometry\"] = merged_mmr_pt.centroid"
   ]
  },
  {
   "cell_type": "markdown",
   "metadata": {},
   "source": [
    "### Fill in the NaNs in the merged_mmr_pt data frame with zeroes"
   ]
  },
  {
   "cell_type": "code",
   "execution_count": 34,
   "metadata": {},
   "outputs": [],
   "source": [
    "# Can't use across whole data frame as of geopandas 0.6, worked in older versions\n",
    "#merged_mmr_pt = merged_mmr_pt.fillna(0)\n",
    "# Have to fill NaN in data frame by specifying each column\n",
    "merged_mmr_pt = merged_mmr_pt.fillna({'total' : 0, 'pediatric': 0, 'adult': 0})"
   ]
  },
  {
   "cell_type": "code",
   "execution_count": 35,
   "metadata": {},
   "outputs": [
    {
     "data": {
      "text/html": [
       "<div>\n",
       "<style scoped>\n",
       "    .dataframe tbody tr th:only-of-type {\n",
       "        vertical-align: middle;\n",
       "    }\n",
       "\n",
       "    .dataframe tbody tr th {\n",
       "        vertical-align: top;\n",
       "    }\n",
       "\n",
       "    .dataframe thead th {\n",
       "        text-align: right;\n",
       "    }\n",
       "</style>\n",
       "<table border=\"1\" class=\"dataframe\">\n",
       "  <thead>\n",
       "    <tr style=\"text-align: right;\">\n",
       "      <th></th>\n",
       "      <th>geometry</th>\n",
       "      <th>total</th>\n",
       "      <th>pediatric</th>\n",
       "      <th>adult</th>\n",
       "      <th>mmr2_pct</th>\n",
       "    </tr>\n",
       "    <tr>\n",
       "      <th>name</th>\n",
       "      <th></th>\n",
       "      <th></th>\n",
       "      <th></th>\n",
       "      <th></th>\n",
       "      <th></th>\n",
       "    </tr>\n",
       "  </thead>\n",
       "  <tbody>\n",
       "    <tr>\n",
       "      <th>San Francisco</th>\n",
       "      <td>POINT (-122.44087 37.75513)</td>\n",
       "      <td>1.0</td>\n",
       "      <td>0.0</td>\n",
       "      <td>1.0</td>\n",
       "      <td>97.3</td>\n",
       "    </tr>\n",
       "    <tr>\n",
       "      <th>Ventura</th>\n",
       "      <td>POINT (-119.07823 34.47159)</td>\n",
       "      <td>0.0</td>\n",
       "      <td>0.0</td>\n",
       "      <td>0.0</td>\n",
       "      <td>97.2</td>\n",
       "    </tr>\n",
       "    <tr>\n",
       "      <th>San Bernardino</th>\n",
       "      <td>POINT (-116.17839 34.84139)</td>\n",
       "      <td>2.0</td>\n",
       "      <td>1.0</td>\n",
       "      <td>1.0</td>\n",
       "      <td>97.1</td>\n",
       "    </tr>\n",
       "    <tr>\n",
       "      <th>Mariposa</th>\n",
       "      <td>POINT (-119.90543 37.58151)</td>\n",
       "      <td>0.0</td>\n",
       "      <td>0.0</td>\n",
       "      <td>0.0</td>\n",
       "      <td>94.9</td>\n",
       "    </tr>\n",
       "    <tr>\n",
       "      <th>Tehama</th>\n",
       "      <td>POINT (-122.23406 40.12563)</td>\n",
       "      <td>0.0</td>\n",
       "      <td>0.0</td>\n",
       "      <td>0.0</td>\n",
       "      <td>95.9</td>\n",
       "    </tr>\n",
       "  </tbody>\n",
       "</table>\n",
       "</div>"
      ],
      "text/plain": [
       "                                   geometry  total  pediatric  adult  mmr2_pct\n",
       "name                                                                          \n",
       "San Francisco   POINT (-122.44087 37.75513)    1.0        0.0    1.0      97.3\n",
       "Ventura         POINT (-119.07823 34.47159)    0.0        0.0    0.0      97.2\n",
       "San Bernardino  POINT (-116.17839 34.84139)    2.0        1.0    1.0      97.1\n",
       "Mariposa        POINT (-119.90543 37.58151)    0.0        0.0    0.0      94.9\n",
       "Tehama          POINT (-122.23406 40.12563)    0.0        0.0    0.0      95.9"
      ]
     },
     "execution_count": 35,
     "metadata": {},
     "output_type": "execute_result"
    }
   ],
   "source": [
    "merged_mmr_pt.head()"
   ]
  },
  {
   "cell_type": "markdown",
   "metadata": {},
   "source": [
    "### Change the data type of the measles cases columns to int from float for both data frames"
   ]
  },
  {
   "cell_type": "code",
   "execution_count": 36,
   "metadata": {},
   "outputs": [],
   "source": [
    "merged_mmr_pt[[\"total\", \"pediatric\", \"adult\"]] = merged_mmr_pt[[\"total\", \"pediatric\", \"adult\"]].astype(int)\n",
    "merged_mmr[[\"total\", \"pediatric\", \"adult\"]] = merged_mmr[[\"total\", \"pediatric\", \"adult\"]].astype(int)"
   ]
  },
  {
   "cell_type": "code",
   "execution_count": 37,
   "metadata": {},
   "outputs": [
    {
     "data": {
      "text/html": [
       "<div>\n",
       "<style scoped>\n",
       "    .dataframe tbody tr th:only-of-type {\n",
       "        vertical-align: middle;\n",
       "    }\n",
       "\n",
       "    .dataframe tbody tr th {\n",
       "        vertical-align: top;\n",
       "    }\n",
       "\n",
       "    .dataframe thead th {\n",
       "        text-align: right;\n",
       "    }\n",
       "</style>\n",
       "<table border=\"1\" class=\"dataframe\">\n",
       "  <thead>\n",
       "    <tr style=\"text-align: right;\">\n",
       "      <th></th>\n",
       "      <th>geometry</th>\n",
       "      <th>total</th>\n",
       "      <th>pediatric</th>\n",
       "      <th>adult</th>\n",
       "      <th>mmr2_pct</th>\n",
       "    </tr>\n",
       "    <tr>\n",
       "      <th>name</th>\n",
       "      <th></th>\n",
       "      <th></th>\n",
       "      <th></th>\n",
       "      <th></th>\n",
       "      <th></th>\n",
       "    </tr>\n",
       "  </thead>\n",
       "  <tbody>\n",
       "    <tr>\n",
       "      <th>San Francisco</th>\n",
       "      <td>MULTIPOLYGON (((-122.51448 37.78083, -122.5098...</td>\n",
       "      <td>1</td>\n",
       "      <td>0</td>\n",
       "      <td>1</td>\n",
       "      <td>97.3</td>\n",
       "    </tr>\n",
       "    <tr>\n",
       "      <th>Ventura</th>\n",
       "      <td>MULTIPOLYGON (((-119.47784 34.37942, -119.4737...</td>\n",
       "      <td>0</td>\n",
       "      <td>0</td>\n",
       "      <td>0</td>\n",
       "      <td>97.2</td>\n",
       "    </tr>\n",
       "    <tr>\n",
       "      <th>San Bernardino</th>\n",
       "      <td>MULTIPOLYGON (((-117.80254 33.97555, -117.7911...</td>\n",
       "      <td>2</td>\n",
       "      <td>1</td>\n",
       "      <td>1</td>\n",
       "      <td>97.1</td>\n",
       "    </tr>\n",
       "    <tr>\n",
       "      <th>Mariposa</th>\n",
       "      <td>MULTIPOLYGON (((-120.39442 37.67504, -120.3925...</td>\n",
       "      <td>0</td>\n",
       "      <td>0</td>\n",
       "      <td>0</td>\n",
       "      <td>94.9</td>\n",
       "    </tr>\n",
       "    <tr>\n",
       "      <th>Tehama</th>\n",
       "      <td>MULTIPOLYGON (((-123.06543 40.28697, -123.0607...</td>\n",
       "      <td>0</td>\n",
       "      <td>0</td>\n",
       "      <td>0</td>\n",
       "      <td>95.9</td>\n",
       "    </tr>\n",
       "  </tbody>\n",
       "</table>\n",
       "</div>"
      ],
      "text/plain": [
       "                                                         geometry  total  \\\n",
       "name                                                                       \n",
       "San Francisco   MULTIPOLYGON (((-122.51448 37.78083, -122.5098...      1   \n",
       "Ventura         MULTIPOLYGON (((-119.47784 34.37942, -119.4737...      0   \n",
       "San Bernardino  MULTIPOLYGON (((-117.80254 33.97555, -117.7911...      2   \n",
       "Mariposa        MULTIPOLYGON (((-120.39442 37.67504, -120.3925...      0   \n",
       "Tehama          MULTIPOLYGON (((-123.06543 40.28697, -123.0607...      0   \n",
       "\n",
       "                pediatric  adult  mmr2_pct  \n",
       "name                                        \n",
       "San Francisco           0      1      97.3  \n",
       "Ventura                 0      0      97.2  \n",
       "San Bernardino          1      1      97.1  \n",
       "Mariposa                0      0      94.9  \n",
       "Tehama                  0      0      95.9  "
      ]
     },
     "execution_count": 37,
     "metadata": {},
     "output_type": "execute_result"
    }
   ],
   "source": [
    "merged_mmr.head()"
   ]
  },
  {
   "cell_type": "code",
   "execution_count": 38,
   "metadata": {},
   "outputs": [
    {
     "data": {
      "text/html": [
       "<div>\n",
       "<style scoped>\n",
       "    .dataframe tbody tr th:only-of-type {\n",
       "        vertical-align: middle;\n",
       "    }\n",
       "\n",
       "    .dataframe tbody tr th {\n",
       "        vertical-align: top;\n",
       "    }\n",
       "\n",
       "    .dataframe thead th {\n",
       "        text-align: right;\n",
       "    }\n",
       "</style>\n",
       "<table border=\"1\" class=\"dataframe\">\n",
       "  <thead>\n",
       "    <tr style=\"text-align: right;\">\n",
       "      <th></th>\n",
       "      <th>geometry</th>\n",
       "      <th>total</th>\n",
       "      <th>pediatric</th>\n",
       "      <th>adult</th>\n",
       "      <th>mmr2_pct</th>\n",
       "    </tr>\n",
       "    <tr>\n",
       "      <th>name</th>\n",
       "      <th></th>\n",
       "      <th></th>\n",
       "      <th></th>\n",
       "      <th></th>\n",
       "      <th></th>\n",
       "    </tr>\n",
       "  </thead>\n",
       "  <tbody>\n",
       "    <tr>\n",
       "      <th>San Francisco</th>\n",
       "      <td>POINT (-122.44087 37.75513)</td>\n",
       "      <td>1</td>\n",
       "      <td>0</td>\n",
       "      <td>1</td>\n",
       "      <td>97.3</td>\n",
       "    </tr>\n",
       "    <tr>\n",
       "      <th>Ventura</th>\n",
       "      <td>POINT (-119.07823 34.47159)</td>\n",
       "      <td>0</td>\n",
       "      <td>0</td>\n",
       "      <td>0</td>\n",
       "      <td>97.2</td>\n",
       "    </tr>\n",
       "    <tr>\n",
       "      <th>San Bernardino</th>\n",
       "      <td>POINT (-116.17839 34.84139)</td>\n",
       "      <td>2</td>\n",
       "      <td>1</td>\n",
       "      <td>1</td>\n",
       "      <td>97.1</td>\n",
       "    </tr>\n",
       "    <tr>\n",
       "      <th>Mariposa</th>\n",
       "      <td>POINT (-119.90543 37.58151)</td>\n",
       "      <td>0</td>\n",
       "      <td>0</td>\n",
       "      <td>0</td>\n",
       "      <td>94.9</td>\n",
       "    </tr>\n",
       "    <tr>\n",
       "      <th>Tehama</th>\n",
       "      <td>POINT (-122.23406 40.12563)</td>\n",
       "      <td>0</td>\n",
       "      <td>0</td>\n",
       "      <td>0</td>\n",
       "      <td>95.9</td>\n",
       "    </tr>\n",
       "  </tbody>\n",
       "</table>\n",
       "</div>"
      ],
      "text/plain": [
       "                                   geometry  total  pediatric  adult  mmr2_pct\n",
       "name                                                                          \n",
       "San Francisco   POINT (-122.44087 37.75513)      1          0      1      97.3\n",
       "Ventura         POINT (-119.07823 34.47159)      0          0      0      97.2\n",
       "San Bernardino  POINT (-116.17839 34.84139)      2          1      1      97.1\n",
       "Mariposa        POINT (-119.90543 37.58151)      0          0      0      94.9\n",
       "Tehama          POINT (-122.23406 40.12563)      0          0      0      95.9"
      ]
     },
     "execution_count": 38,
     "metadata": {},
     "output_type": "execute_result"
    }
   ],
   "source": [
    "merged_mmr_pt.head()"
   ]
  },
  {
   "cell_type": "markdown",
   "metadata": {},
   "source": [
    "### Create our map"
   ]
  },
  {
   "cell_type": "code",
   "execution_count": 39,
   "metadata": {},
   "outputs": [
    {
     "data": {
      "image/png": "[encoded data removed]",
      "text/plain": [
       "<Figure size 1080x1080 with 1 Axes>"
      ]
     },
     "metadata": {
      "needs_background": "light"
     },
     "output_type": "display_data"
    }
   ],
   "source": [
    "# Empty list to hold labels for bubble markers\n",
    "markerLabels =[]\n",
    "\n",
    "# Base map of vax rates\n",
    "basemap = merged_mmr.plot(column='mmr2_pct', cmap='PuBu', figsize=(15,15), scheme='fisher_jenks', edgecolor='#bdbdbd', legend=True, \n",
    "                          legend_kwds={'title' : 'Pediatric Vaccination Rate 2018 - 2019','frameon' : False})\n",
    "\n",
    "# Add pediatric cases to map as circles \n",
    "merged_mmr_pt.plot(ax = basemap, markersize = merged_mmr['pediatric']**2 * 150, color = \"salmon\", edgecolor = \"darkgray\", alpha = 0.7)\n",
    "\n",
    "# Turn off axis\n",
    "basemap.set_axis_off()\n",
    "\n",
    "# Title For Map\n",
    "plt.title('California MMR2 Pediatric Vaccination Rates & Reported Pediatric Measles Cases 2019' , fontsize=20);\n",
    "\n",
    "# Use zip to iterate over the x/y of geometry and the pediatric column\n",
    "for x, y, label in zip(merged_mmr_pt.geometry.x, merged_mmr_pt.geometry.y, merged_mmr_pt['pediatric']):\n",
    "    if label != 0:\n",
    "        markerLabels.append(plt.text(x,y,label, fontsize=13, horizontalalignment='center', verticalalignment='center_baseline'))"
   ]
  },
  {
   "cell_type": "code",
   "execution_count": null,
   "metadata": {},
   "outputs": [],
   "source": []
  }
 ],
 "metadata": {
  "kernelspec": {
   "display_name": "Python 3",
   "language": "python",
   "name": "python3"
  },
  "language_info": {
   "codemirror_mode": {
    "name": "ipython",
    "version": 3
   },
   "file_extension": ".py",
   "mimetype": "text/x-python",
   "name": "python",
   "nbconvert_exporter": "python",
   "pygments_lexer": "ipython3",
   "version": "3.7.1"
  }
 },
 "nbformat": 4,
 "nbformat_minor": 2
}
